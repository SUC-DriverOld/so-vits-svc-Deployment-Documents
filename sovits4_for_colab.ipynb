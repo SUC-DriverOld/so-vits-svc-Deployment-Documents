{
 "cells": [
  {
   "cell_type": "markdown",
   "metadata": {
    "id": "2q0l56aFQhAM"
   },
   "source": [
    "# Terms of Use\n",
    "\n",
    "### Please solve the authorization problem of the dataset on your own. You shall be solely responsible for any problems caused by the use of non-authorized datasets for training and all consequences thereof.The repository and its maintainer, svc develop team, have nothing to do with the consequences!\n",
    "\n",
    "1. This project is established for academic exchange purposes only and is intended for communication and learning purposes. It is not intended for production environments.\n",
    "2. Any videos based on sovits that are published on video platforms must clearly indicate in the description that they are used for voice changing and specify the input source of the voice or audio, for example, using videos or audios published by others and separating the vocals as input source for conversion, which must provide clear original video or music links. If your own voice or other synthesized voices from other commercial vocal synthesis software are used as the input source for conversion, you must also explain it in the description.\n",
    "3. You shall be solely responsible for any infringement problems caused by the input source. When using other commercial vocal synthesis software as input source, please ensure that you comply with the terms of use of the software. Note that many vocal synthesis engines clearly state in their terms of use that they cannot be used for input source conversion.\n",
    "4. Continuing to use this project is deemed as agreeing to the relevant provisions stated in this repository README. This repository README has the obligation to persuade, and is not responsible for any subsequent problems that may arise.\n",
    "5. If you distribute this repository's code or publish any results produced by this project publicly (including but not limited to video sharing platforms), please indicate the original author and code source (this repository).\n",
    "6. If you use this project for any other plan, please contact and inform the author of this repository in advance. Thank you very much.\n"
   ]
  },
  {
   "cell_type": "markdown",
   "metadata": {
    "id": "M_RcDbVPhivj"
   },
   "source": [
    "## **Note:**\n",
    "## **Make sure there is no a directory named `sovits4data` in your google drive at the first time you use this notebook.**\n",
    "## **It will be created to store some necessary files.**\n",
    "## **For sure you can change it to another directory by modifying `sovits_data_dir` variable.**"
   ]
  },
  {
   "cell_type": "markdown",
   "metadata": {
    "id": "fHaw6hGEa_Nk"
   },
   "source": [
    "# **Initialize environment**"
   ]
  },
  {
   "cell_type": "code",
   "execution_count": null,
   "metadata": {
    "colab": {
     "base_uri": "https://localhost:8080/"
    },
    "executionInfo": {
     "elapsed": 380,
     "status": "ok",
     "timestamp": 1739450150037,
     "user": {
      "displayName": "Driver Old (Sucial丶)",
      "userId": "17161741792330272503"
     },
     "user_tz": -480
    },
    "id": "0gQcIZ8RsOkn",
    "outputId": "9bb3b208-e3ad-4dd7-a80d-3347039944af"
   },
   "outputs": [],
   "source": [
    "#@title Connect to colab runtime and check GPU\n",
    "#@markdown # Connect to colab runtime and check GPU\n",
    "#@markdown\n",
    "!nvidia-smi"
   ]
  },
  {
   "cell_type": "code",
   "execution_count": null,
   "metadata": {
    "id": "b1K5WrIIQwad"
   },
   "outputs": [],
   "source": [
    "#@title Clone repository and install requirements\n",
    "#@markdown # Clone repository and install requirements\n",
    "#@markdown\n",
    "#@markdown ### After the execution is completed, the runtime will **automatically restart**\n",
    "#@markdown\n",
    "\n",
    "!sudo apt-get update -y\n",
    "!sudo apt-get install python3.8\n",
    "!sudo apt-get install python3.8-distutils\n",
    "!sudo apt-get install python3.8-venv python3.8-dev\n",
    "!wget https://bootstrap.pypa.io/get-pip.py\n",
    "!python3.8 get-pip.py\n",
    "!python3.8 --version\n",
    "\n",
    "!git clone https://github.com/svc-develop-team/so-vits-svc -b 4.1-Stable\n",
    "!git clone https://github.com/SUC-DriverOld/so-vits-svc-Deployment-Documents\n",
    "!cp /content/so-vits-svc-Deployment-Documents/requirements.txt /content/so-vits-svc\n",
    "\n",
    "%cd /content/so-vits-svc\n",
    "!python3.8 -m pip install --upgrade pip==24.0 setuptools\n",
    "!python3.8 -m pip install -r requirements.txt --extra-index-url https://download.pytorch.org/whl/cu117"
   ]
  },
  {
   "cell_type": "code",
   "execution_count": null,
   "metadata": {
    "colab": {
     "base_uri": "https://localhost:8080/"
    },
    "executionInfo": {
     "elapsed": 21539,
     "status": "ok",
     "timestamp": 1713783822861,
     "user": {
      "displayName": "Driver Old",
      "userId": "17161741792330272503"
     },
     "user_tz": -480
    },
    "id": "wmUkpUmfn_Hs",
    "outputId": "d344f369-1016-4585-e1de-af7cf5b11154"
   },
   "outputs": [
    {
     "name": "stdout",
     "output_type": "stream",
     "text": [
      "Mounted at /content/drive\n"
     ]
    }
   ],
   "source": [
    "#@title Mount google drive and select which directories to sync with google drive\n",
    "#@markdown # Mount google drive and select which directories to sync with google drive\n",
    "#@markdown\n",
    "\n",
    "from google.colab import drive\n",
    "drive.mount(\"/content/drive\")\n",
    "\n",
    "#@markdown Directory to store **necessary files**, dont miss the slash at the end👇.\n",
    "sovits_data_dir = \"/content/drive/MyDrive/sovits4data/\"  #@param {type:\"string\"}\n",
    "#@markdown By default it will create a `sovits4data/` folder in your google drive.\n",
    "RAW_DIR = sovits_data_dir + \"raw/\"\n",
    "RESULTS_DIR = sovits_data_dir + \"results/\"\n",
    "FILELISTS_DIR = sovits_data_dir + \"filelists/\"\n",
    "CONFIGS_DIR = sovits_data_dir + \"configs/\"\n",
    "LOGS_DIR = sovits_data_dir + \"logs/44k/\"\n",
    "\n",
    "#@markdown\n",
    "#@markdown ### These folders will be synced with your google drvie\n",
    "#@markdown　### **Strongly recommend to check all.**\n",
    "#@markdown Sync **input audios** and **output audios**\n",
    "sync_raw_and_results = True  #@param {type:\"boolean\"}\n",
    "if sync_raw_and_results:\n",
    "  !mkdir -p {RAW_DIR}\n",
    "  !mkdir -p {RESULTS_DIR}\n",
    "  !rm -rf /content/so-vits-svc/raw\n",
    "  !rm -rf /content/so-vits-svc/results\n",
    "  !ln -s {RAW_DIR} /content/so-vits-svc/raw\n",
    "  !ln -s {RESULTS_DIR} /content/so-vits-svc/results\n",
    "\n",
    "#@markdown Sync **config** and **models**\n",
    "sync_configs_and_logs = True  #@param {type:\"boolean\"}\n",
    "if sync_configs_and_logs:\n",
    "  !mkdir -p {FILELISTS_DIR}\n",
    "  !mkdir -p {CONFIGS_DIR}\n",
    "  !mkdir -p {LOGS_DIR}\n",
    "  !rm -rf /content/so-vits-svc/filelists\n",
    "  !rm -rf /content/so-vits-svc/configs\n",
    "  !rm -rf /content/so-vits-svc/logs/44k\n",
    "  !ln -s {FILELISTS_DIR} /content/so-vits-svc/filelists\n",
    "  !ln -s {CONFIGS_DIR} /content/so-vits-svc/configs\n",
    "  !ln -s {LOGS_DIR} /content/so-vits-svc/logs/44k"
   ]
  },
  {
   "cell_type": "code",
   "execution_count": null,
   "metadata": {
    "colab": {
     "base_uri": "https://localhost:8080/"
    },
    "executionInfo": {
     "elapsed": 2873,
     "status": "ok",
     "timestamp": 1739517582450,
     "user": {
      "displayName": "Driver Old (Sucial丶)",
      "userId": "17161741792330272503"
     },
     "user_tz": -480
    },
    "id": "G_PMPCN6wvgZ",
    "outputId": "c4c04025-4cda-4c3f-df63-fbd87f259627"
   },
   "outputs": [],
   "source": [
    "#@title Get pretrained model(Optional but strongly recommend).\n",
    "#@markdown # Get pretrained model(Optional but strongly recommend).\n",
    "#@markdown\n",
    "\n",
    "#@markdown - Pre-trained model files: `G_0.pth` `D_0.pth`\n",
    "#@markdown   - Place them under /sovits4data/logs/44k/ in your google drive manualy\n",
    "\n",
    "#@markdown Get them from svc-develop-team(TBD) or anywhere else. \\\n",
    "#@markdown Although the pretrained model generally does not cause any copyright problems, please pay attention to it. For example, ask the author in advance, or the author has indicated the feasible use in the description clearly.\n",
    "\n",
    "download_pretrained_model = True #@param {type:\"boolean\"}\n",
    "D_0_URL = \"https://huggingface.co/1asbgdh/sovits4.0-volemb-vec768/resolve/main/clean_D_320000.pth\" # @param [\"https://huggingface.co/datasets/ms903/sovits4.0-768vec-layer12/resolve/main/sovits_768l12_pre_large_320k/clean_D_320000.pth\", \"https://huggingface.co/1asbgdh/sovits4.0-volemb-vec768/resolve/main/clean_D_320000.pth\", \"https://huggingface.co/datasets/ms903/sovits4.0-768vec-layer12/resolve/main/vol_emb/clean_D_320000.pth\", \"https://huggingface.co/Sucial/so-vits-svc4.1-pretrain_model/resolve/main/D_0.pth\"] {allow-input: true}\n",
    "G_0_URL = \"https://huggingface.co/Sucial/so-vits-svc4.1-pretrain_model/resolve/main/G_0.pth\" # @param [\"https://huggingface.co/datasets/ms903/sovits4.0-768vec-layer12/resolve/main/sovits_768l12_pre_large_320k/clean_G_320000.pth\", \"https://huggingface.co/1asbgdh/sovits4.0-volemb-vec768/resolve/main/clean_G_320000.pth\", \"https://huggingface.co/datasets/ms903/sovits4.0-768vec-layer12/resolve/main/vol_emb/clean_G_320000.pth\", \"https://huggingface.co/Sucial/so-vits-svc4.1-pretrain_model/resolve/main/G_0.pth\"] {allow-input: true}\n",
    "\n",
    "download_pretrained_diffusion_model = True #@param {type:\"boolean\"}\n",
    "diff_model_URL = \"https://huggingface.co/Sucial/so-vits-svc4.1-pretrain_model/resolve/main/model_0.pt\" #@param {type:\"string\"}\n",
    "\n",
    "%cd /content/so-vits-svc\n",
    "\n",
    "if download_pretrained_model:\n",
    "    !curl -L {D_0_URL} -o logs/44k/D_0.pth\n",
    "    !md5sum logs/44k/D_0.pth\n",
    "    !curl -L {G_0_URL} -o logs/44k/G_0.pth\n",
    "    !md5sum logs/44k/G_0.pth\n",
    "\n",
    "if download_pretrained_diffusion_model:\n",
    "    !mkdir -p logs/44k/diffusion\n",
    "    !curl -L {diff_model_URL} -o logs/44k/diffusion/model_0.pt\n",
    "    !md5sum logs/44k/diffusion/model_0.pt"
   ]
  },
  {
   "cell_type": "markdown",
   "metadata": {
    "id": "k1qadJBFehMo"
   },
   "source": [
    "# **Dataset preprocessing**"
   ]
  },
  {
   "cell_type": "markdown",
   "metadata": {
    "id": "kBlju6Q3lSM6"
   },
   "source": [
    "Pack and upload your raw dataset(dataset_raw/) to your google drive.\n",
    "\n",
    "Makesure the file structure in your zip file looks like this:\n",
    "\n",
    "```\n",
    "YourZIPforSingleSpeakers.zip\n",
    "└───speaker\n",
    "    ├───xxx1-xxx1.wav\n",
    "    ├───...\n",
    "    └───Lxx-0xx8.wav\n",
    "```\n",
    "\n",
    "```\n",
    "YourZIPforMultipleSpeakers.zip\n",
    "├───speaker0\n",
    "│   ├───xxx1-xxx1.wav\n",
    "│   ├───...\n",
    "│   └───Lxx-0xx8.wav\n",
    "└───speaker1\n",
    "    ├───xx2-0xxx2.wav\n",
    "    ├───...\n",
    "    └───xxx7-xxx007.wav\n",
    "```\n",
    "\n",
    "**Even if there is only one speaker, a folder named `{speaker_name}` is needed.**"
   ]
  },
  {
   "cell_type": "code",
   "execution_count": null,
   "metadata": {
    "id": "U05CXlAipvJR"
   },
   "outputs": [],
   "source": [
    "#@title Get raw dataset from google drive\n",
    "#@markdown # Get raw dataset from google drive\n",
    "#@markdown\n",
    "\n",
    "#@markdown Directory where **your zip file** located in, dont miss the slash at the end👇.\n",
    "sovits_data_dir = \"/content/drive/MyDrive/sovits4data/\"  #@param {type:\"string\"}\n",
    "#@markdown Filename of **your zip file**, do NOT be \"dataset.zip\"\n",
    "zip_filename = \"YOUR_ZIP_NAME.zip\"  #@param {type:\"string\"}\n",
    "ZIP_PATH = sovits_data_dir + zip_filename\n",
    "\n",
    "!unzip -od /content/so-vits-svc/dataset_raw {ZIP_PATH}"
   ]
  },
  {
   "cell_type": "code",
   "execution_count": null,
   "metadata": {
    "colab": {
     "base_uri": "https://localhost:8080/"
    },
    "executionInfo": {
     "elapsed": 67969,
     "status": "ok",
     "timestamp": 1713780710567,
     "user": {
      "displayName": "Driver Old",
      "userId": "17161741792330272503"
     },
     "user_tz": -480
    },
    "id": "_ThKTzYs5CfL",
    "outputId": "0ee853d3-ba69-43a6-c3f5-ffd6faebcaed"
   },
   "outputs": [],
   "source": [
    "#@title Resample to 44100Hz and mono\n",
    "#@markdown # Resample to 44100Hz and mono\n",
    "#@markdown\n",
    "\n",
    "%cd /content/so-vits-svc\n",
    "!python3.8 resample.py"
   ]
  },
  {
   "cell_type": "code",
   "execution_count": null,
   "metadata": {
    "colab": {
     "base_uri": "https://localhost:8080/"
    },
    "executionInfo": {
     "elapsed": 85422,
     "status": "ok",
     "timestamp": 1713780904587,
     "user": {
      "displayName": "Driver Old",
      "userId": "17161741792330272503"
     },
     "user_tz": -480
    },
    "id": "svITReeL5N8K",
    "outputId": "c553067b-0b3c-46ea-eabb-0b7b48b64d1e"
   },
   "outputs": [],
   "source": [
    "#@title Divide filelists and generate config.json\n",
    "#@markdown # Divide filelists and generate config.json\n",
    "#@markdown\n",
    "\n",
    "%cd /content/so-vits-svc\n",
    "\n",
    "speech_encoder = \"vec768l12\" #@param [\"vec768l12\", \"vec256l9\", \"hubertsoft\", \"whisper-ppg\", \"whisper-ppg-large\"]\n",
    "use_vol_aug = False #@param {type:\"boolean\"}\n",
    "vol_aug = \"--vol_aug\" if use_vol_aug else \"\"\n",
    "\n",
    "from pretrain.meta import download_dict\n",
    "download_dict = download_dict()\n",
    "\n",
    "url = download_dict[speech_encoder][\"url\"]\n",
    "output = download_dict[speech_encoder][\"output\"]\n",
    "\n",
    "import os\n",
    "if not os.path.exists(output):\n",
    "  !curl -L {url} -o {output}\n",
    "  !md5sum {output}\n",
    "\n",
    "!python3.8 preprocess_flist_config.py --speech_encoder={speech_encoder} {vol_aug}"
   ]
  },
  {
   "cell_type": "code",
   "execution_count": null,
   "metadata": {
    "id": "xHUXMi836DMe"
   },
   "outputs": [],
   "source": [
    "#@title Generate hubert and f0\n",
    "#@markdown # Generate hubert and f0\n",
    "#@markdown\n",
    "%cd /content/so-vits-svc\n",
    "\n",
    "f0_predictor = \"rmvpe\" #@param [\"crepe\", \"pm\", \"dio\", \"harvest\", \"rmvpe\", \"fcpe\"]\n",
    "use_diff = True #@param {type:\"boolean\"}\n",
    "\n",
    "import os\n",
    "if f0_predictor == \"rmvpe\" and not os.path.exists(\"./pretrain/rmvpe.pt\"):\n",
    "  !curl -L https://huggingface.co/datasets/ylzz1997/rmvpe_pretrain_model/resolve/main/rmvpe.pt -o pretrain/rmvpe.pt\n",
    "\n",
    "if f0_predictor == \"fcpe\" and not os.path.exists(\"./pretrain/fcpe.pt\"):\n",
    "  !curl -L https://huggingface.co/datasets/ylzz1997/rmvpe_pretrain_model/resolve/main/fcpe.pt -o pretrain/fcpe.pt\n",
    "\n",
    "\n",
    "diff_param = \"\"\n",
    "if use_diff:\n",
    "  diff_param = \"--use_diff\"\n",
    "\n",
    "  if not os.path.exists(\"./pretrain/nsf_hifigan/model\"):\n",
    "    !curl -L https://github.com/openvpi/vocoders/releases/download/nsf-hifigan-v1/nsf_hifigan_20221211.zip -o nsf_hifigan_20221211.zip\n",
    "    !md5sum nsf_hifigan_20221211.zip\n",
    "    !unzip nsf_hifigan_20221211.zip\n",
    "    !rm -rf pretrain/nsf_hifigan\n",
    "    !mv -v nsf_hifigan pretrain\n",
    "\n",
    "!python3.8 preprocess_hubert_f0.py --f0_predictor={f0_predictor} {diff_param}"
   ]
  },
  {
   "cell_type": "code",
   "execution_count": null,
   "metadata": {
    "id": "Wo4OTmTAUXgj"
   },
   "outputs": [],
   "source": [
    "#@title Save the preprocessed dataset to google drive\n",
    "#@markdown # Save the preprocessed dataset to google drive\n",
    "#@markdown\n",
    "\n",
    "#@markdown You can save the dataset and related files to your google drive for the next training\n",
    "#@markdown **Directory for saving**, dont miss the slash at the end👇.\n",
    "sovits_data_dir = \"/content/drive/MyDrive/sovits4data/\" #@param {type:\"string\"}\n",
    "\n",
    "#@markdown There will be a `dataset.zip` contained `dataset/` in your google drive, which is preprocessed data.\n",
    "!mkdir -p {sovits_data_dir}\n",
    "!zip -r dataset.zip /content/so-vits-svc/dataset\n",
    "!cp -vr dataset.zip \"{sovits_data_dir}\""
   ]
  },
  {
   "cell_type": "code",
   "execution_count": null,
   "metadata": {
    "id": "P2G6v_6zblWK"
   },
   "outputs": [],
   "source": [
    "#@title Unzip preprocessed dataset from google drive directly if you have preprocessed already.\n",
    "#@markdown # Unzip preprocessed dataset from google drive directly if you have preprocessed already.\n",
    "#@markdown\n",
    "\n",
    "#@markdown Directory where **your preprocessed dataset** located in, dont miss the slash at the end👇.\n",
    "sovits_data_dir = \"/content/drive/MyDrive/sovits4data/\" #@param {type:\"string\"}\n",
    "CONFIG = sovits_data_dir + \"configs/\"\n",
    "FILELISTS = sovits_data_dir + \"filelists/\"\n",
    "DATASET = sovits_data_dir + \"dataset.zip\"\n",
    "\n",
    "!cp -vr {CONFIG} /content/so-vits-svc/\n",
    "!cp -vr {FILELISTS} /content/so-vits-svc/\n",
    "!unzip {DATASET} -d /"
   ]
  },
  {
   "cell_type": "markdown",
   "metadata": {
    "id": "ENoH-pShel7w"
   },
   "source": [
    "# **Trainning**"
   ]
  },
  {
   "cell_type": "code",
   "execution_count": null,
   "metadata": {
    "id": "-hEFFTCfZf57"
   },
   "outputs": [],
   "source": [
    "#@title Start training\n",
    "#@markdown # Start training\n",
    "#@markdown If you want to use pre-trained models, upload them to /sovits4data/logs/44k/ in your google drive manualy.\n",
    "#@markdown\n",
    "\n",
    "%cd /content/so-vits-svc\n",
    "\n",
    "#@markdown Whether to enable tensorboard\n",
    "tensorboard_on = True  #@param {type:\"boolean\"}\n",
    "\n",
    "if tensorboard_on:\n",
    "  %load_ext tensorboard\n",
    "  %tensorboard --logdir logs/44k\n",
    "\n",
    "config_path = \"configs/config.json\"\n",
    "\n",
    "from pretrain.meta import get_speech_encoder\n",
    "url, output = get_speech_encoder(config_path)\n",
    "\n",
    "import os\n",
    "if not os.path.exists(output):\n",
    "  !curl -L {url} -o {output}\n",
    "\n",
    "!python3.8 train.py -c {config_path} -m 44k"
   ]
  },
  {
   "cell_type": "code",
   "execution_count": null,
   "metadata": {
    "colab": {
     "base_uri": "https://localhost:8080/"
    },
    "executionInfo": {
     "elapsed": 336290,
     "status": "ok",
     "timestamp": 1713783082098,
     "user": {
      "displayName": "Driver Old",
      "userId": "17161741792330272503"
     },
     "user_tz": -480
    },
    "id": "ZThaMxmIJgWy",
    "outputId": "81d61ece-3971-4c8c-a7db-8423502fc209"
   },
   "outputs": [],
   "source": [
    "#@title Train cluster model (Optional)\n",
    "#@markdown # Train cluster model (Optional)\n",
    "#@markdown #### Details see [README.md#cluster-based-timbre-leakage-control](https://github.com/svc-develop-team/so-vits-svc#cluster-based-timbre-leakage-control)\n",
    "#@markdown\n",
    "\n",
    "%cd /content/so-vits-svc\n",
    "!python3.8 cluster/train_cluster.py --gpu"
   ]
  },
  {
   "cell_type": "code",
   "execution_count": null,
   "metadata": {
    "colab": {
     "base_uri": "https://localhost:8080/"
    },
    "executionInfo": {
     "elapsed": 348,
     "status": "ok",
     "timestamp": 1713783300837,
     "user": {
      "displayName": "Driver Old",
      "userId": "17161741792330272503"
     },
     "user_tz": -480
    },
    "id": "NbTCi7GwHTnZ",
    "outputId": "1cbc380b-344c-4dba-dc17-918848be51c0"
   },
   "outputs": [],
   "source": [
    "#@title Train index model (Optional)\n",
    "#@markdown # Train index model (Optional)\n",
    "#@markdown #### Details see [README.md#feature-retrieval](https://github.com/svc-develop-team/so-vits-svc#feature-retrieval)\n",
    "#@markdown\n",
    "\n",
    "%cd /content/so-vits-svc\n",
    "!python3.8 train_index.py -c configs/config.json"
   ]
  },
  {
   "cell_type": "code",
   "execution_count": null,
   "metadata": {
    "id": "ulSzahztHTnZ"
   },
   "outputs": [],
   "source": [
    "#@title Train diffusion model (Optional)\n",
    "#@markdown # Train diffusion model (Optional)\n",
    "#@markdown #### Details see [README.md#-about-shallow-diffusion](https://github.com/svc-develop-team/so-vits-svc#-about-shallow-diffusion)\n",
    "#@markdown\n",
    "\n",
    "%cd /content/so-vits-svc\n",
    "\n",
    "import os\n",
    "if not os.path.exists(\"./pretrain/nsf_hifigan/model\"):\n",
    "  !curl -L https://github.com/openvpi/vocoders/releases/download/nsf-hifigan-v1/nsf_hifigan_20221211.zip -o nsf_hifigan_20221211.zip\n",
    "  !unzip nsf_hifigan_20221211.zip\n",
    "  !rm -rf pretrain/nsf_hifigan\n",
    "  !mv -v nsf_hifigan pretrain\n",
    "\n",
    "#@markdown Whether to enable tensorboard\n",
    "tensorboard_on = True  #@param {type:\"boolean\"}\n",
    "\n",
    "if tensorboard_on:\n",
    "  %load_ext tensorboard\n",
    "  %tensorboard --logdir logs/44k\n",
    "\n",
    "!python3.8 train_diff.py -c configs/diffusion.yaml"
   ]
  },
  {
   "cell_type": "markdown",
   "metadata": {
    "id": "lp33AktGHTnZ"
   },
   "source": [
    "# keep colab alive\n",
    "Open the devtools and copy & paste to run the scrips.\n",
    "\n",
    "\n",
    "```JavaScript\n",
    "const ping = () => {\n",
    "  const btn = document.querySelector(\"colab-connect-button\");\n",
    "  const inner_btn = btn.shadowRoot.querySelector(\"#connect\");\n",
    "  if (inner_btn) {\n",
    "    inner_btn.click();\n",
    "    console.log(\"Clicked on connect button\");\n",
    "  } else {\n",
    "    console.log(\"connect button not found\");\n",
    "  }\n",
    "  const nextTime = 50000 + Math.random() * 10000;\n",
    "  setTimeout(ping, nextTime);\n",
    "};\n",
    "ping();\n",
    "```"
   ]
  },
  {
   "cell_type": "markdown",
   "metadata": {
    "id": "oCnbX-OT897k"
   },
   "source": [
    "# **Inference**\n",
    "### Upload your raw audio files to `/content/so-vits-svc/raw`\n",
    "### Download result audio files from `/content/so-vits-svc/results`"
   ]
  },
  {
   "cell_type": "code",
   "execution_count": null,
   "metadata": {
    "colab": {
     "base_uri": "https://localhost:8080/"
    },
    "id": "dYnKuKTIj3z1",
    "outputId": "1d5e9cf7-7a15-4554-b8f9-53a18c3c785f"
   },
   "outputs": [],
   "source": [
    "#@title Start inference (and download)\n",
    "#@markdown # Start inference (and download)\n",
    "#@markdown Parameters see [README.MD#Inference](https://github.com/svc-develop-team/so-vits-svc#-inference) \\\n",
    "#@markdown\n",
    "\n",
    "#@markdown\n",
    "\n",
    "#@markdown File and model Parameters\n",
    "wav_filename = \"YOUR_AUDIO_NAME.wav\"  #@param {type:\"string\"}\n",
    "model_filename = \"YOUR_MODEL_NAME.pth\"  #@param {type:\"string\"}\n",
    "config_filename = \"config.json\"  #@param {type:\"string\"}\n",
    "speaker = \"YOUR_SPEARER_NAME\"  #@param {type:\"string\"}\n",
    "use_diffusion_model = True #@param {type:\"boolean\"}\n",
    "diffusion_model_name = \"YOUR_DIFFUSION_MODEL_NAME.pt\"  #@param {type:\"string\"}\n",
    "diffusion_config_filename = \"diffusion.yaml\"  #@param {type:\"string\"}\n",
    "use_kmeans_model = False #@param {type:\"boolean\"}\n",
    "kmeans_filenname = \"kmeans_10000.pt\"  #@param {type:\"string\"}\n",
    "\n",
    "#@markdown\n",
    "\n",
    "#@markdown Common Parameters\n",
    "trans = \"0\"  #@param {type:\"string\"}\n",
    "force_clip_seconds = \"0\"  #@param {type:\"string\"}\n",
    "f0_predictor = \"rmvpe\" #@param [\"crepe\", \"pm\", \"dio\", \"harvest\", \"rmvpe\", \"fcpe\"]\n",
    "auto_predict_f0 = False  #@param {type:\"boolean\"}\n",
    "enhance = False  #@param {type:\"boolean\"}\n",
    "\n",
    "#@markdown\n",
    "\n",
    "#@markdown Diffusion Parameters\n",
    "diffusion_k_step = \"20\"  #@param {type:\"string\"}\n",
    "second_encoding = False  #@param {type:\"boolean\"}\n",
    "only_diffusion = False  #@param {type:\"boolean\"}\n",
    "\n",
    "#@markdown\n",
    "\n",
    "#@markdown Other Parameters\n",
    "cluster_infer_ratio = \"0\"  #@param {type:\"string\"}\n",
    "slice_db = \"-40\"  #@param {type:\"string\"}\n",
    "wav_format = \"wav\"  #@param [\"wav\", \"flac\", \"mp3\"]\n",
    "\n",
    "\n",
    "model_path = \"/content/so-vits-svc/logs/44k/\" + model_filename\n",
    "config_path = \"/content/so-vits-svc/configs/\" + config_filename\n",
    "diffusion_model_path = \"/content/so-vits-svc/logs/44k/diffusion/\" + diffusion_model_name\n",
    "diffusion_config_path = \"/content/so-vits-svc/configs/\" + diffusion_config_filename\n",
    "kmeans_path = \"/content/so-vits-svc/logs/44k/\" + kmeans_filenname\n",
    "\n",
    "common_param = f\" --trans {trans} --clip {force_clip_seconds} --f0_predictor {f0_predictor}\"\n",
    "if auto_predict_f0:\n",
    "  common_param += \" --auto_predict_f0\"\n",
    "if enhance:\n",
    "  common_param += \" --enhance\"\n",
    "\n",
    "diffusion_param = \"\"\n",
    "if use_diffusion_model:\n",
    "  diffusion_param = \" --shallow_diffusion\"\n",
    "  diffusion_param += f\" --diffusion_model_path \\\"{diffusion_model_path}\\\"\"\n",
    "  diffusion_param += f\" --diffusion_config_path \\\"{diffusion_config_path}\\\"\"\n",
    "  diffusion_param += f\" --k_step {diffusion_k_step}\"\n",
    "  if second_encoding:\n",
    "    diffusion_param += \" --second_encoding\"\n",
    "  if only_diffusion:\n",
    "    diffusion_param += \" --only_diffusion\"\n",
    "\n",
    "kmeans_param = \"\"\n",
    "if use_kmeans_model:\n",
    "  kmeans_param = f\" --cluster_model_path \\\"{kmeans_path}\\\"\"\n",
    "  kmeans_param += f\" --cluster_infer_ratio {cluster_infer_ratio}\"\n",
    "\n",
    "basic_param = f\"-n \\\"{wav_filename}\\\" -m \\\"{model_path}\\\" -s {speaker} -c \\\"{config_path}\\\"\"\n",
    "other_param = f\" --slice_db {slice_db} --wav_format {wav_format}\"\n",
    "param = basic_param + common_param + diffusion_param + kmeans_param + other_param\n",
    "\n",
    "\n",
    "from pretrain.meta import get_speech_encoder\n",
    "url, output = get_speech_encoder(config_path)\n",
    "import os\n",
    "\n",
    "if not os.path.exists(\"./pretrain/nsf_hifigan/model\"):\n",
    "  !curl -L https://github.com/openvpi/vocoders/releases/download/nsf-hifigan-v1/nsf_hifigan_20221211.zip -o /content/so-vits-svc/nsf_hifigan_20221211.zip\n",
    "  !unzip nsf_hifigan_20221211.zip\n",
    "  !rm -rf pretrain/nsf_hifigan\n",
    "  !mv -v nsf_hifigan pretrain\n",
    "\n",
    "if f0_predictor == \"rmvpe\" and not os.path.exists(\"./pretrain/rmvpe.pt\"):\n",
    "  !curl -L https://huggingface.co/datasets/ylzz1997/rmvpe_pretrain_model/resolve/main/rmvpe.pt -o pretrain/rmvpe.pt\n",
    "if f0_predictor == \"fcpe\" and not os.path.exists(\"./pretrain/fcpe.pt\"):\n",
    "  !curl -L https://huggingface.co/datasets/ylzz1997/rmvpe_pretrain_model/resolve/main/fcpe.pt -o pretrain/fcpe.pt\n",
    "if not os.path.exists(output):\n",
    "  !curl -L {url} -o {output}\n",
    "\n",
    "\n",
    "%cd /content/so-vits-svc\n",
    "print(f\"python3.8 inference_main.py {param}\")\n",
    "!python3.8 inference_main.py {param}"
   ]
  }
 ],
 "metadata": {
  "colab": {
   "provenance": [
    {
     "file_id": "19fxpo-ZoL_ShEUeZIZi6Di-YioWrEyhR",
     "timestamp": 1678516497580
    },
    {
     "file_id": "1rCUOOVG7-XQlVZuWRAj5IpGrMM8t07pE",
     "timestamp": 1673086970071
    },
    {
     "file_id": "1Ul5SmzWiSHBj0MaKA0B682C-RZKOycwF",
     "timestamp": 1670483515921
    }
   ]
  },
  "kernelspec": {
   "display_name": "Python 3",
   "name": "python3"
  },
  "language_info": {
   "codemirror_mode": {
    "name": "ipython",
    "version": 3
   },
   "file_extension": ".py",
   "mimetype": "text/x-python",
   "name": "python",
   "nbconvert_exporter": "python",
   "pygments_lexer": "ipython3",
   "version": "3.8.16"
  }
 },
 "nbformat": 4,
 "nbformat_minor": 0
}
